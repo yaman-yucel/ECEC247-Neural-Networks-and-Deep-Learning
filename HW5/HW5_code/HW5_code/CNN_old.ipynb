{
 "cells": [
  {
   "cell_type": "markdown",
   "metadata": {},
   "source": [
    "# Convolutional neural networks\n",
    "\n",
    "In this notebook, we'll put together our convolutional layers to implement a 3-layer CNN.  Then, we'll ask you to implement a CNN that can achieve > 65% validation error on CIFAR-10.\n",
    "\n",
    "If you have not completed the Spatial BatchNorm Notebook, please see the following description from that notebook:\n",
    "\n",
    "Please copy and paste your prior implemented code from HW #4 to start this assignment.  If you did not correctly implement the layers in HW #4, you may collaborate with a classmate to use their layer implementations from HW #4.  You may also visit TA or Prof OH to correct your implementation.  \n",
    "\n",
    "You'll want to copy and paste from HW #4:\n",
    "    - layers.py for your FC network layers, as well as batchnorm and dropout.\n",
    "    - layer_utils.py for your combined FC network layers.\n",
    "    - optim.py for your optimizers.\n",
    "\n",
    "Be sure to place these in the `nndl/` directory so they're imported correctly.  Note, as announced in class, we will not be releasing our solutions."
   ]
  },
  {
   "cell_type": "code",
   "execution_count": 1,
   "metadata": {},
   "outputs": [],
   "source": [
    "# As usual, a bit of setup\n",
    "\n",
    "import numpy as np\n",
    "import matplotlib.pyplot as plt\n",
    "from nndl.cnn import *\n",
    "from utils.data_utils import get_CIFAR10_data\n",
    "from utils.gradient_check import eval_numerical_gradient_array, eval_numerical_gradient\n",
    "from nndl.layers import *\n",
    "from nndl.conv_layers import *\n",
    "from utils.fast_layers import *\n",
    "from utils.solver import Solver\n",
    "\n",
    "%matplotlib inline\n",
    "plt.rcParams['figure.figsize'] = (10.0, 8.0) # set default size of plots\n",
    "plt.rcParams['image.interpolation'] = 'nearest'\n",
    "plt.rcParams['image.cmap'] = 'gray'\n",
    "\n",
    "# for auto-reloading external modules\n",
    "# see http://stackoverflow.com/questions/1907993/autoreload-of-modules-in-ipython\n",
    "%load_ext autoreload\n",
    "%autoreload 2\n",
    "\n",
    "def rel_error(x, y):\n",
    "  \"\"\" returns relative error \"\"\"\n",
    "  return np.max(np.abs(x - y) / (np.maximum(1e-8, np.abs(x) + np.abs(y))))"
   ]
  },
  {
   "cell_type": "code",
   "execution_count": 2,
   "metadata": {},
   "outputs": [
    {
     "name": "stdout",
     "output_type": "stream",
     "text": [
      "X_train: (49000, 3, 32, 32) \n",
      "y_train: (49000,) \n",
      "X_val: (1000, 3, 32, 32) \n",
      "y_val: (1000,) \n",
      "X_test: (1000, 3, 32, 32) \n",
      "y_test: (1000,) \n"
     ]
    }
   ],
   "source": [
    "# Load the (preprocessed) CIFAR10 data.\n",
    "\n",
    "data = get_CIFAR10_data()\n",
    "for k in data.keys():\n",
    "  print('{}: {} '.format(k, data[k].shape))"
   ]
  },
  {
   "cell_type": "markdown",
   "metadata": {},
   "source": [
    "## Three layer CNN\n",
    "\n",
    "In this notebook, you will implement a three layer CNN.  The `ThreeLayerConvNet` class is in `nndl/cnn.py`.  You'll need to modify that code for this section, including the initialization, as well as the calculation of the loss and gradients.  You should be able to use the building blocks you have either earlier coded or that we have provided.  Be sure to use the fast layers.\n",
    "\n",
    "The architecture of this CNN will be:\n",
    "\n",
    "conv - relu - 2x2 max pool - affine - relu - affine - softmax\n",
    "\n",
    "We won't use batchnorm yet.  You've also done enough of these to know how to debug; use the cells below.\n",
    "\n",
    "Note: As we are implementing several layers CNN networks. The gradient error can be expected for the `eval_numerical_gradient()` function. If your `W1 max relative error` and `W2 max relative error` are around or below 0.01, they should be acceptable. Other errors should be less than 1e-5. "
   ]
  },
  {
   "cell_type": "code",
   "execution_count": 3,
   "metadata": {},
   "outputs": [
    {
     "name": "stdout",
     "output_type": "stream",
     "text": [
      "W1 max relative error: 0.00915209508389932\n",
      "W2 max relative error: 0.0011365116237510573\n",
      "W3 max relative error: 3.4750861262701945e-06\n",
      "b1 max relative error: 0.0004578985604424689\n",
      "b2 max relative error: 1.882721810019873e-06\n",
      "b3 max relative error: 1.2913525612656392e-09\n"
     ]
    }
   ],
   "source": [
    "num_inputs = 2\n",
    "input_dim = (3, 16, 16)\n",
    "reg = 0.0\n",
    "num_classes = 10\n",
    "X = np.random.randn(num_inputs, *input_dim)\n",
    "y = np.random.randint(num_classes, size=num_inputs)\n",
    "\n",
    "model = ThreeLayerConvNet(num_filters=3, filter_size=3,\n",
    "                          input_dim=input_dim, hidden_dim=7,\n",
    "                          dtype=np.float64)\n",
    "loss, grads = model.loss(X, y)\n",
    "for param_name in sorted(grads):\n",
    "    f = lambda _: model.loss(X, y)[0]\n",
    "    param_grad_num = eval_numerical_gradient(f, model.params[param_name], verbose=False, h=1e-6)\n",
    "    e = rel_error(param_grad_num, grads[param_name])\n",
    "    print('{} max relative error: {}'.format(param_name, rel_error(param_grad_num, grads[param_name])))"
   ]
  },
  {
   "cell_type": "markdown",
   "metadata": {},
   "source": [
    "### Overfit small dataset\n",
    "\n",
    "To check your CNN implementation, let's overfit a small dataset."
   ]
  },
  {
   "cell_type": "code",
   "execution_count": 4,
   "metadata": {},
   "outputs": [
    {
     "name": "stdout",
     "output_type": "stream",
     "text": [
      "(Iteration 1 / 20) loss: 2.396520\n",
      "(Epoch 0 / 10) train acc: 0.150000; val_acc: 0.109000\n",
      "(Iteration 2 / 20) loss: 3.457184\n",
      "(Epoch 1 / 10) train acc: 0.190000; val_acc: 0.110000\n",
      "(Iteration 3 / 20) loss: 2.369411\n",
      "(Iteration 4 / 20) loss: 2.688495\n",
      "(Epoch 2 / 10) train acc: 0.360000; val_acc: 0.113000\n",
      "(Iteration 5 / 20) loss: 2.777398\n",
      "(Iteration 6 / 20) loss: 2.529094\n",
      "(Epoch 3 / 10) train acc: 0.420000; val_acc: 0.189000\n",
      "(Iteration 7 / 20) loss: 2.306760\n",
      "(Iteration 8 / 20) loss: 2.029284\n",
      "(Epoch 4 / 10) train acc: 0.460000; val_acc: 0.174000\n",
      "(Iteration 9 / 20) loss: 1.758321\n",
      "(Iteration 10 / 20) loss: 1.536575\n",
      "(Epoch 5 / 10) train acc: 0.550000; val_acc: 0.197000\n",
      "(Iteration 11 / 20) loss: 1.555605\n",
      "(Iteration 12 / 20) loss: 1.420751\n",
      "(Epoch 6 / 10) train acc: 0.590000; val_acc: 0.187000\n",
      "(Iteration 13 / 20) loss: 1.349038\n",
      "(Iteration 14 / 20) loss: 1.258091\n",
      "(Epoch 7 / 10) train acc: 0.690000; val_acc: 0.196000\n",
      "(Iteration 15 / 20) loss: 1.193112\n",
      "(Iteration 16 / 20) loss: 1.157035\n",
      "(Epoch 8 / 10) train acc: 0.770000; val_acc: 0.218000\n",
      "(Iteration 17 / 20) loss: 0.916222\n",
      "(Iteration 18 / 20) loss: 0.856756\n",
      "(Epoch 9 / 10) train acc: 0.820000; val_acc: 0.246000\n",
      "(Iteration 19 / 20) loss: 0.668875\n",
      "(Iteration 20 / 20) loss: 0.612417\n",
      "(Epoch 10 / 10) train acc: 0.830000; val_acc: 0.230000\n"
     ]
    }
   ],
   "source": [
    "num_train = 100\n",
    "small_data = {\n",
    "  'X_train': data['X_train'][:num_train],\n",
    "  'y_train': data['y_train'][:num_train],\n",
    "  'X_val': data['X_val'],\n",
    "  'y_val': data['y_val'],\n",
    "}\n",
    "\n",
    "model = ThreeLayerConvNet(weight_scale=1e-2)\n",
    "\n",
    "solver = Solver(model, small_data,\n",
    "                num_epochs=10, batch_size=50,\n",
    "                update_rule='adam',\n",
    "                optim_config={\n",
    "                  'learning_rate': 1e-3,\n",
    "                },\n",
    "                verbose=True, print_every=1)\n",
    "solver.train()"
   ]
  },
  {
   "cell_type": "code",
   "execution_count": 5,
   "metadata": {},
   "outputs": [
    {
     "data": {
      "image/png": "[encoded data removed]",
      "text/plain": [
       "<Figure size 1000x800 with 2 Axes>"
      ]
     },
     "metadata": {},
     "output_type": "display_data"
    }
   ],
   "source": [
    "plt.subplot(2, 1, 1)\n",
    "plt.plot(solver.loss_history, 'o')\n",
    "plt.xlabel('iteration')\n",
    "plt.ylabel('loss')\n",
    "\n",
    "plt.subplot(2, 1, 2)\n",
    "plt.plot(solver.train_acc_history, '-o')\n",
    "plt.plot(solver.val_acc_history, '-o')\n",
    "plt.legend(['train', 'val'], loc='upper left')\n",
    "plt.xlabel('epoch')\n",
    "plt.ylabel('accuracy')\n",
    "plt.show()"
   ]
  },
  {
   "cell_type": "markdown",
   "metadata": {},
   "source": [
    "## Train the network\n",
    "\n",
    "Now we train the 3 layer CNN on CIFAR-10 and assess its accuracy."
   ]
  },
  {
   "cell_type": "code",
   "execution_count": 6,
   "metadata": {
    "scrolled": false
   },
   "outputs": [
    {
     "name": "stdout",
     "output_type": "stream",
     "text": [
      "(Iteration 1 / 980) loss: 2.304766\n",
      "(Epoch 0 / 1) train acc: 0.107000; val_acc: 0.122000\n",
      "(Iteration 21 / 980) loss: 2.184118\n",
      "(Iteration 41 / 980) loss: 2.121081\n",
      "(Iteration 61 / 980) loss: 1.937614\n",
      "(Iteration 81 / 980) loss: 1.953030\n",
      "(Iteration 101 / 980) loss: 1.553165\n",
      "(Iteration 121 / 980) loss: 1.706125\n",
      "(Iteration 141 / 980) loss: 1.703543\n",
      "(Iteration 161 / 980) loss: 1.730732\n",
      "(Iteration 181 / 980) loss: 1.598319\n",
      "(Iteration 201 / 980) loss: 1.884805\n",
      "(Iteration 221 / 980) loss: 1.604278\n",
      "(Iteration 241 / 980) loss: 1.827092\n",
      "(Iteration 261 / 980) loss: 1.399856\n",
      "(Iteration 281 / 980) loss: 1.684303\n",
      "(Iteration 301 / 980) loss: 1.423096\n",
      "(Iteration 321 / 980) loss: 1.693154\n",
      "(Iteration 341 / 980) loss: 1.606838\n",
      "(Iteration 361 / 980) loss: 1.599809\n",
      "(Iteration 381 / 980) loss: 1.766194\n",
      "(Iteration 401 / 980) loss: 1.737937\n",
      "(Iteration 421 / 980) loss: 1.839397\n",
      "(Iteration 441 / 980) loss: 1.639352\n",
      "(Iteration 461 / 980) loss: 1.520532\n",
      "(Iteration 481 / 980) loss: 1.836553\n",
      "(Iteration 501 / 980) loss: 1.681637\n",
      "(Iteration 521 / 980) loss: 1.448485\n",
      "(Iteration 541 / 980) loss: 1.720846\n",
      "(Iteration 561 / 980) loss: 1.816694\n",
      "(Iteration 581 / 980) loss: 1.833086\n",
      "(Iteration 601 / 980) loss: 2.170403\n",
      "(Iteration 621 / 980) loss: 1.572076\n",
      "(Iteration 641 / 980) loss: 1.696656\n",
      "(Iteration 661 / 980) loss: 1.634462\n",
      "(Iteration 681 / 980) loss: 1.512563\n",
      "(Iteration 701 / 980) loss: 1.552279\n",
      "(Iteration 721 / 980) loss: 1.918017\n",
      "(Iteration 741 / 980) loss: 1.517469\n",
      "(Iteration 761 / 980) loss: 1.480868\n",
      "(Iteration 781 / 980) loss: 1.583346\n",
      "(Iteration 801 / 980) loss: 1.499037\n",
      "(Iteration 821 / 980) loss: 1.472692\n",
      "(Iteration 841 / 980) loss: 2.044337\n",
      "(Iteration 861 / 980) loss: 1.604548\n",
      "(Iteration 881 / 980) loss: 1.471978\n",
      "(Iteration 901 / 980) loss: 1.519050\n",
      "(Iteration 921 / 980) loss: 1.280208\n",
      "(Iteration 941 / 980) loss: 1.550386\n",
      "(Iteration 961 / 980) loss: 1.399838\n",
      "(Epoch 1 / 1) train acc: 0.486000; val_acc: 0.460000\n"
     ]
    }
   ],
   "source": [
    "model = ThreeLayerConvNet(weight_scale=0.001, hidden_dim=500, reg=0.001)\n",
    "\n",
    "solver = Solver(model, data,\n",
    "                num_epochs=1, batch_size=50,\n",
    "                update_rule='adam',\n",
    "                optim_config={\n",
    "                  'learning_rate': 1e-3,\n",
    "                },\n",
    "                verbose=True, print_every=20)\n",
    "solver.train()"
   ]
  },
  {
   "cell_type": "markdown",
   "metadata": {},
   "source": [
    "# Get > 65% validation accuracy on CIFAR-10.\n",
    "\n",
    "In the last part of the assignment, we'll now ask you to train a CNN to get better than 65% validation accuracy on CIFAR-10.\n",
    "\n",
    "### Things you should try:\n",
    "- Filter size: Above we used 7x7; but VGGNet and onwards showed stacks of 3x3 filters are good.  \n",
    "- Number of filters: Above we used 32 filters. Do more or fewer do better?\n",
    "- Batch normalization: Try adding spatial batch normalization after convolution layers and vanilla batch normalization aafter affine layers. Do your networks train faster?\n",
    "- Network architecture: Can a deeper CNN do better?  Consider these architectures:\n",
    "    - [conv-relu-pool]xN - conv - relu - [affine]xM - [softmax or SVM]\n",
    "    - [conv-relu-pool]XN - [affine]XM - [softmax or SVM]\n",
    "    - [conv-relu-conv-relu-pool]xN - [affine]xM - [softmax or SVM]\n",
    "\n",
    "### Tips for training\n",
    "For each network architecture that you try, you should tune the learning rate and regularization strength. When doing this there are a couple important things to keep in mind:\n",
    "\n",
    "- If the parameters are working well, you should see improvement within a few hundred iterations\n",
    "- Remember the coarse-to-fine approach for hyperparameter tuning: start by testing a large range of hyperparameters for just a few training iterations to find the combinations of parameters that are working at all.\n",
    "- Once you have found some sets of parameters that seem to work, search more finely around these parameters. You may need to train for more epochs."
   ]
  },
  {
   "cell_type": "code",
   "execution_count": 7,
   "metadata": {
    "scrolled": false
   },
   "outputs": [
    {
     "name": "stdout",
     "output_type": "stream",
     "text": [
      "(Iteration 1 / 378) loss: 2.304726\n",
      "(Epoch 0 / 7) train acc: 0.081000; val_acc: 0.098000\n",
      "(Iteration 11 / 378) loss: 1.949156\n",
      "(Iteration 21 / 378) loss: 1.832978\n",
      "(Iteration 31 / 378) loss: 1.617163\n",
      "(Iteration 41 / 378) loss: 1.450233\n",
      "(Iteration 51 / 378) loss: 1.429388\n",
      "(Epoch 1 / 7) train acc: 0.521000; val_acc: 0.505000\n",
      "(Iteration 61 / 378) loss: 1.398692\n",
      "(Iteration 71 / 378) loss: 1.368592\n",
      "(Iteration 81 / 378) loss: 1.246967\n",
      "(Iteration 91 / 378) loss: 1.256197\n",
      "(Iteration 101 / 378) loss: 1.250383\n",
      "(Epoch 2 / 7) train acc: 0.558000; val_acc: 0.576000\n",
      "(Iteration 111 / 378) loss: 1.221968\n",
      "(Iteration 121 / 378) loss: 1.207932\n",
      "(Iteration 131 / 378) loss: 1.214572\n",
      "(Iteration 141 / 378) loss: 1.161311\n",
      "(Iteration 151 / 378) loss: 1.066944\n",
      "(Iteration 161 / 378) loss: 1.076866\n",
      "(Epoch 3 / 7) train acc: 0.643000; val_acc: 0.599000\n",
      "(Iteration 171 / 378) loss: 1.068877\n",
      "(Iteration 181 / 378) loss: 0.985054\n",
      "(Iteration 191 / 378) loss: 0.987664\n",
      "(Iteration 201 / 378) loss: 0.985513\n",
      "(Iteration 211 / 378) loss: 0.972947\n",
      "(Epoch 4 / 7) train acc: 0.698000; val_acc: 0.631000\n",
      "(Iteration 221 / 378) loss: 1.103155\n",
      "(Iteration 231 / 378) loss: 1.004855\n",
      "(Iteration 241 / 378) loss: 0.893849\n",
      "(Iteration 251 / 378) loss: 0.925731\n",
      "(Iteration 261 / 378) loss: 0.892823\n",
      "(Epoch 5 / 7) train acc: 0.729000; val_acc: 0.630000\n",
      "(Iteration 271 / 378) loss: 0.940092\n",
      "(Iteration 281 / 378) loss: 0.875916\n",
      "(Iteration 291 / 378) loss: 0.824452\n",
      "(Iteration 301 / 378) loss: 0.892697\n",
      "(Iteration 311 / 378) loss: 0.847895\n",
      "(Iteration 321 / 378) loss: 0.862834\n",
      "(Epoch 6 / 7) train acc: 0.746000; val_acc: 0.631000\n",
      "(Iteration 331 / 378) loss: 0.842478\n",
      "(Iteration 341 / 378) loss: 0.828609\n",
      "(Iteration 351 / 378) loss: 0.757868\n",
      "(Iteration 361 / 378) loss: 0.751231\n",
      "(Iteration 371 / 378) loss: 0.711761\n",
      "(Epoch 7 / 7) train acc: 0.768000; val_acc: 0.649000\n"
     ]
    }
   ],
   "source": [
    "# ================================================================ #\n",
    "# YOUR CODE HERE:\n",
    "#   Implement a CNN to achieve greater than 65% validation accuracy\n",
    "#   on CIFAR-10.\n",
    "# ================================================================ #\n",
    "\n",
    "model = ThreeLayerConvNet(weight_scale=0.001, hidden_dim=500, reg=0.001)\n",
    "solver = Solver(model, data,\n",
    "                num_epochs=7, batch_size=1000,\n",
    "                update_rule='adam',\n",
    "                optim_config={\n",
    "                'learning_rate': 1e-3,\n",
    "                },\n",
    "                verbose=True, print_every=10)\n",
    "solver.train()\n",
    "# ================================================================ #\n",
    "# END YOUR CODE HERE\n",
    "# ================================================================ #\n"
   ]
  },
  {
   "cell_type": "code",
   "execution_count": null,
   "metadata": {},
   "outputs": [],
   "source": [
    "\"\"\" \n",
    "# I used here to see which parameters can be changed\n",
    "\n",
    "model = ThreeLayerConvNet(self, input_dim=(3, 32, 32), num_filters=32, filter_size=7,\n",
    "               hidden_dim=100, num_classes=10, weight_scale=1e-3, reg=1e-3,\n",
    "               dtype=np.float32, use_batchnorm=True)\n",
    "\n",
    "solver = Solver(model, data,\n",
    "                num_epochs=10, batch_size=1000,\n",
    "                update_rule='adam',\n",
    "                lr_decay = 0.95,\n",
    "                optim_config={\n",
    "                'learning_rate': 1e-3,\n",
    "                },\n",
    "                verbose=True, print_every=10)\n",
    "solver.train()\n",
    "\"\"\""
   ]
  }
 ],
 "metadata": {
  "kernelspec": {
   "display_name": "Python 3 (ipykernel)",
   "language": "python",
   "name": "python3"
  },
  "language_info": {
   "codemirror_mode": {
    "name": "ipython",
    "version": 3
   },
   "file_extension": ".py",
   "mimetype": "text/x-python",
   "name": "python",
   "nbconvert_exporter": "python",
   "pygments_lexer": "ipython3",
   "version": "3.9.13"
  },
  "pycharm": {
   "stem_cell": {
    "cell_type": "raw",
    "metadata": {
     "collapsed": false
    },
    "source": []
   }
  }
 },
 "nbformat": 4,
 "nbformat_minor": 2
}
