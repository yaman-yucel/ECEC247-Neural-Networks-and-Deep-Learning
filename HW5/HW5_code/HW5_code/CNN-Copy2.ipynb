{
 "cells": [
  {
   "cell_type": "markdown",
   "metadata": {},
   "source": [
    "# Convolutional neural networks\n",
    "\n",
    "In this notebook, we'll put together our convolutional layers to implement a 3-layer CNN.  Then, we'll ask you to implement a CNN that can achieve > 65% validation error on CIFAR-10.\n",
    "\n",
    "If you have not completed the Spatial BatchNorm Notebook, please see the following description from that notebook:\n",
    "\n",
    "Please copy and paste your prior implemented code from HW #4 to start this assignment.  If you did not correctly implement the layers in HW #4, you may collaborate with a classmate to use their layer implementations from HW #4.  You may also visit TA or Prof OH to correct your implementation.  \n",
    "\n",
    "You'll want to copy and paste from HW #4:\n",
    "    - layers.py for your FC network layers, as well as batchnorm and dropout.\n",
    "    - layer_utils.py for your combined FC network layers.\n",
    "    - optim.py for your optimizers.\n",
    "\n",
    "Be sure to place these in the `nndl/` directory so they're imported correctly.  Note, as announced in class, we will not be releasing our solutions."
   ]
  },
  {
   "cell_type": "code",
   "execution_count": 1,
   "metadata": {},
   "outputs": [],
   "source": [
    "# As usual, a bit of setup\n",
    "\n",
    "import numpy as np\n",
    "import matplotlib.pyplot as plt\n",
    "from nndl.cnn import *\n",
    "from utils.data_utils import get_CIFAR10_data\n",
    "from utils.gradient_check import eval_numerical_gradient_array, eval_numerical_gradient\n",
    "from nndl.layers import *\n",
    "from nndl.conv_layers import *\n",
    "from utils.fast_layers import *\n",
    "from utils.solver import Solver\n",
    "\n",
    "%matplotlib inline\n",
    "plt.rcParams['figure.figsize'] = (10.0, 8.0) # set default size of plots\n",
    "plt.rcParams['image.interpolation'] = 'nearest'\n",
    "plt.rcParams['image.cmap'] = 'gray'\n",
    "\n",
    "# for auto-reloading external modules\n",
    "# see http://stackoverflow.com/questions/1907993/autoreload-of-modules-in-ipython\n",
    "%load_ext autoreload\n",
    "%autoreload 2\n",
    "\n",
    "def rel_error(x, y):\n",
    "  \"\"\" returns relative error \"\"\"\n",
    "  return np.max(np.abs(x - y) / (np.maximum(1e-8, np.abs(x) + np.abs(y))))"
   ]
  },
  {
   "cell_type": "code",
   "execution_count": 2,
   "metadata": {},
   "outputs": [
    {
     "name": "stdout",
     "output_type": "stream",
     "text": [
      "X_train: (49000, 3, 32, 32) \n",
      "y_train: (49000,) \n",
      "X_val: (1000, 3, 32, 32) \n",
      "y_val: (1000,) \n",
      "X_test: (1000, 3, 32, 32) \n",
      "y_test: (1000,) \n"
     ]
    }
   ],
   "source": [
    "# Load the (preprocessed) CIFAR10 data.\n",
    "\n",
    "data = get_CIFAR10_data()\n",
    "for k in data.keys():\n",
    "  print('{}: {} '.format(k, data[k].shape))"
   ]
  },
  {
   "cell_type": "markdown",
   "metadata": {},
   "source": [
    "## Three layer CNN\n",
    "\n",
    "In this notebook, you will implement a three layer CNN.  The `ThreeLayerConvNet` class is in `nndl/cnn.py`.  You'll need to modify that code for this section, including the initialization, as well as the calculation of the loss and gradients.  You should be able to use the building blocks you have either earlier coded or that we have provided.  Be sure to use the fast layers.\n",
    "\n",
    "The architecture of this CNN will be:\n",
    "\n",
    "conv - relu - 2x2 max pool - affine - relu - affine - softmax\n",
    "\n",
    "We won't use batchnorm yet.  You've also done enough of these to know how to debug; use the cells below.\n",
    "\n",
    "Note: As we are implementing several layers CNN networks. The gradient error can be expected for the `eval_numerical_gradient()` function. If your `W1 max relative error` and `W2 max relative error` are around or below 0.01, they should be acceptable. Other errors should be less than 1e-5. "
   ]
  },
  {
   "cell_type": "code",
   "execution_count": 3,
   "metadata": {},
   "outputs": [
    {
     "name": "stdout",
     "output_type": "stream",
     "text": [
      "W1 max relative error: 0.0033392750137818963\n",
      "W2 max relative error: 0.017167491378010564\n",
      "W3 max relative error: 8.193232384991028e-05\n",
      "b1 max relative error: 3.3553698095303856e-05\n",
      "b2 max relative error: 1.3429153645555403e-05\n",
      "b3 max relative error: 1.7162605835027624e-09\n"
     ]
    }
   ],
   "source": [
    "num_inputs = 2\n",
    "input_dim = (3, 16, 16)\n",
    "reg = 0.0\n",
    "num_classes = 10\n",
    "X = np.random.randn(num_inputs, *input_dim)\n",
    "y = np.random.randint(num_classes, size=num_inputs)\n",
    "\n",
    "model = ThreeLayerConvNet(num_filters=3, filter_size=3,\n",
    "                          input_dim=input_dim, hidden_dim=7,\n",
    "                          dtype=np.float64)\n",
    "loss, grads = model.loss(X, y)\n",
    "for param_name in sorted(grads):\n",
    "    f = lambda _: model.loss(X, y)[0]\n",
    "    param_grad_num = eval_numerical_gradient(f, model.params[param_name], verbose=False, h=1e-6)\n",
    "    e = rel_error(param_grad_num, grads[param_name])\n",
    "    print('{} max relative error: {}'.format(param_name, rel_error(param_grad_num, grads[param_name])))"
   ]
  },
  {
   "cell_type": "markdown",
   "metadata": {},
   "source": [
    "### Overfit small dataset\n",
    "\n",
    "To check your CNN implementation, let's overfit a small dataset."
   ]
  },
  {
   "cell_type": "code",
   "execution_count": 4,
   "metadata": {},
   "outputs": [
    {
     "name": "stdout",
     "output_type": "stream",
     "text": [
      "(Iteration 1 / 20) loss: 2.364963\n",
      "(Epoch 0 / 10) train acc: 0.120000; val_acc: 0.105000\n",
      "(Iteration 2 / 20) loss: 3.864338\n",
      "(Epoch 1 / 10) train acc: 0.260000; val_acc: 0.168000\n",
      "(Iteration 3 / 20) loss: 2.785405\n",
      "(Iteration 4 / 20) loss: 2.471339\n",
      "(Epoch 2 / 10) train acc: 0.240000; val_acc: 0.100000\n",
      "(Iteration 5 / 20) loss: 2.309011\n",
      "(Iteration 6 / 20) loss: 2.375510\n",
      "(Epoch 3 / 10) train acc: 0.470000; val_acc: 0.181000\n",
      "(Iteration 7 / 20) loss: 2.065757\n",
      "(Iteration 8 / 20) loss: 1.579396\n",
      "(Epoch 4 / 10) train acc: 0.470000; val_acc: 0.201000\n",
      "(Iteration 9 / 20) loss: 1.869621\n",
      "(Iteration 10 / 20) loss: 1.768888\n",
      "(Epoch 5 / 10) train acc: 0.590000; val_acc: 0.202000\n",
      "(Iteration 11 / 20) loss: 1.497091\n",
      "(Iteration 12 / 20) loss: 1.726531\n",
      "(Epoch 6 / 10) train acc: 0.560000; val_acc: 0.173000\n",
      "(Iteration 13 / 20) loss: 1.290295\n",
      "(Iteration 14 / 20) loss: 1.176521\n",
      "(Epoch 7 / 10) train acc: 0.740000; val_acc: 0.193000\n",
      "(Iteration 15 / 20) loss: 0.868022\n",
      "(Iteration 16 / 20) loss: 0.894241\n",
      "(Epoch 8 / 10) train acc: 0.750000; val_acc: 0.203000\n",
      "(Iteration 17 / 20) loss: 0.846965\n",
      "(Iteration 18 / 20) loss: 0.621463\n",
      "(Epoch 9 / 10) train acc: 0.810000; val_acc: 0.219000\n",
      "(Iteration 19 / 20) loss: 0.491843\n",
      "(Iteration 20 / 20) loss: 0.539898\n",
      "(Epoch 10 / 10) train acc: 0.940000; val_acc: 0.213000\n"
     ]
    }
   ],
   "source": [
    "num_train = 100\n",
    "small_data = {\n",
    "  'X_train': data['X_train'][:num_train],\n",
    "  'y_train': data['y_train'][:num_train],\n",
    "  'X_val': data['X_val'],\n",
    "  'y_val': data['y_val'],\n",
    "}\n",
    "\n",
    "model = ThreeLayerConvNet(weight_scale=1e-2)\n",
    "\n",
    "solver = Solver(model, small_data,\n",
    "                num_epochs=10, batch_size=50,\n",
    "                update_rule='adam',\n",
    "                optim_config={\n",
    "                  'learning_rate': 1e-3,\n",
    "                },\n",
    "                verbose=True, print_every=1)\n",
    "solver.train()"
   ]
  },
  {
   "cell_type": "code",
   "execution_count": 5,
   "metadata": {},
   "outputs": [
    {
     "data": {
      "image/png": "[encoded data removed]",
      "text/plain": [
       "<Figure size 1000x800 with 2 Axes>"
      ]
     },
     "metadata": {},
     "output_type": "display_data"
    }
   ],
   "source": [
    "plt.subplot(2, 1, 1)\n",
    "plt.plot(solver.loss_history, 'o')\n",
    "plt.xlabel('iteration')\n",
    "plt.ylabel('loss')\n",
    "\n",
    "plt.subplot(2, 1, 2)\n",
    "plt.plot(solver.train_acc_history, '-o')\n",
    "plt.plot(solver.val_acc_history, '-o')\n",
    "plt.legend(['train', 'val'], loc='upper left')\n",
    "plt.xlabel('epoch')\n",
    "plt.ylabel('accuracy')\n",
    "plt.show()"
   ]
  },
  {
   "cell_type": "markdown",
   "metadata": {},
   "source": [
    "## Train the network\n",
    "\n",
    "Now we train the 3 layer CNN on CIFAR-10 and assess its accuracy."
   ]
  },
  {
   "cell_type": "code",
   "execution_count": 6,
   "metadata": {
    "scrolled": false
   },
   "outputs": [
    {
     "name": "stdout",
     "output_type": "stream",
     "text": [
      "(Iteration 1 / 980) loss: 2.304647\n",
      "(Epoch 0 / 1) train acc: 0.116000; val_acc: 0.112000\n",
      "(Iteration 21 / 980) loss: 1.971653\n",
      "(Iteration 41 / 980) loss: 2.163440\n",
      "(Iteration 61 / 980) loss: 1.683719\n",
      "(Iteration 81 / 980) loss: 2.101153\n",
      "(Iteration 101 / 980) loss: 1.988192\n",
      "(Iteration 121 / 980) loss: 1.840460\n",
      "(Iteration 141 / 980) loss: 1.901769\n",
      "(Iteration 161 / 980) loss: 1.584532\n",
      "(Iteration 181 / 980) loss: 1.764629\n",
      "(Iteration 201 / 980) loss: 2.088921\n",
      "(Iteration 221 / 980) loss: 1.613013\n",
      "(Iteration 241 / 980) loss: 1.781382\n",
      "(Iteration 261 / 980) loss: 1.575482\n",
      "(Iteration 281 / 980) loss: 1.545078\n",
      "(Iteration 301 / 980) loss: 1.630522\n",
      "(Iteration 321 / 980) loss: 1.698501\n",
      "(Iteration 341 / 980) loss: 1.594089\n",
      "(Iteration 361 / 980) loss: 1.636470\n",
      "(Iteration 381 / 980) loss: 1.731924\n",
      "(Iteration 401 / 980) loss: 1.291893\n",
      "(Iteration 421 / 980) loss: 1.503571\n",
      "(Iteration 441 / 980) loss: 1.503485\n",
      "(Iteration 461 / 980) loss: 1.720141\n",
      "(Iteration 481 / 980) loss: 1.765299\n",
      "(Iteration 501 / 980) loss: 1.323080\n",
      "(Iteration 521 / 980) loss: 1.767366\n",
      "(Iteration 541 / 980) loss: 1.622065\n",
      "(Iteration 561 / 980) loss: 1.743235\n",
      "(Iteration 581 / 980) loss: 1.536610\n",
      "(Iteration 601 / 980) loss: 1.523101\n",
      "(Iteration 621 / 980) loss: 1.458547\n",
      "(Iteration 641 / 980) loss: 1.555471\n",
      "(Iteration 661 / 980) loss: 1.505843\n",
      "(Iteration 681 / 980) loss: 1.551335\n",
      "(Iteration 701 / 980) loss: 1.660645\n",
      "(Iteration 721 / 980) loss: 1.877108\n",
      "(Iteration 741 / 980) loss: 1.612427\n",
      "(Iteration 761 / 980) loss: 1.612433\n",
      "(Iteration 781 / 980) loss: 1.754181\n",
      "(Iteration 801 / 980) loss: 1.527490\n",
      "(Iteration 821 / 980) loss: 1.267938\n",
      "(Iteration 841 / 980) loss: 1.352585\n",
      "(Iteration 861 / 980) loss: 1.508502\n",
      "(Iteration 881 / 980) loss: 1.472120\n",
      "(Iteration 901 / 980) loss: 1.528905\n",
      "(Iteration 921 / 980) loss: 1.565305\n",
      "(Iteration 941 / 980) loss: 1.676818\n",
      "(Iteration 961 / 980) loss: 1.400796\n",
      "(Epoch 1 / 1) train acc: 0.467000; val_acc: 0.466000\n"
     ]
    }
   ],
   "source": [
    "model = ThreeLayerConvNet(weight_scale=0.001, hidden_dim=500, reg=0.001)\n",
    "\n",
    "solver = Solver(model, data,\n",
    "                num_epochs=1, batch_size=50,\n",
    "                update_rule='adam',\n",
    "                optim_config={\n",
    "                  'learning_rate': 1e-3,\n",
    "                },\n",
    "                verbose=True, print_every=20)\n",
    "solver.train()"
   ]
  },
  {
   "cell_type": "markdown",
   "metadata": {},
   "source": [
    "# Get > 65% validation accuracy on CIFAR-10.\n",
    "\n",
    "In the last part of the assignment, we'll now ask you to train a CNN to get better than 65% validation accuracy on CIFAR-10.\n",
    "\n",
    "### Things you should try:\n",
    "- Filter size: Above we used 7x7; but VGGNet and onwards showed stacks of 3x3 filters are good.  \n",
    "- Number of filters: Above we used 32 filters. Do more or fewer do better?\n",
    "- Batch normalization: Try adding spatial batch normalization after convolution layers and vanilla batch normalization aafter affine layers. Do your networks train faster?\n",
    "- Network architecture: Can a deeper CNN do better?  Consider these architectures:\n",
    "    - [conv-relu-pool]xN - conv - relu - [affine]xM - [softmax or SVM]\n",
    "    - [conv-relu-pool]XN - [affine]XM - [softmax or SVM]\n",
    "    - [conv-relu-conv-relu-pool]xN - [affine]xM - [softmax or SVM]\n",
    "\n",
    "### Tips for training\n",
    "For each network architecture that you try, you should tune the learning rate and regularization strength. When doing this there are a couple important things to keep in mind:\n",
    "\n",
    "- If the parameters are working well, you should see improvement within a few hundred iterations\n",
    "- Remember the coarse-to-fine approach for hyperparameter tuning: start by testing a large range of hyperparameters for just a few training iterations to find the combinations of parameters that are working at all.\n",
    "- Once you have found some sets of parameters that seem to work, search more finely around these parameters. You may need to train for more epochs."
   ]
  },
  {
   "cell_type": "code",
   "execution_count": 7,
   "metadata": {
    "scrolled": false
   },
   "outputs": [
    {
     "name": "stdout",
     "output_type": "stream",
     "text": [
      "(Iteration 1 / 490) loss: 2.304639\n",
      "(Epoch 0 / 10) train acc: 0.105000; val_acc: 0.107000\n",
      "(Iteration 11 / 490) loss: 2.015308\n",
      "(Iteration 21 / 490) loss: 1.810625\n",
      "(Iteration 31 / 490) loss: 1.686696\n",
      "(Iteration 41 / 490) loss: 1.531576\n",
      "(Epoch 1 / 10) train acc: 0.506000; val_acc: 0.490000\n",
      "(Iteration 51 / 490) loss: 1.516235\n",
      "(Iteration 61 / 490) loss: 1.446852\n",
      "(Iteration 71 / 490) loss: 1.387099\n",
      "(Iteration 81 / 490) loss: 1.281215\n",
      "(Iteration 91 / 490) loss: 1.254388\n",
      "(Epoch 2 / 10) train acc: 0.549000; val_acc: 0.548000\n",
      "(Iteration 101 / 490) loss: 1.276809\n",
      "(Iteration 111 / 490) loss: 1.227835\n",
      "(Iteration 121 / 490) loss: 1.232816\n",
      "(Iteration 131 / 490) loss: 1.198394\n",
      "(Iteration 141 / 490) loss: 1.217050\n",
      "(Epoch 3 / 10) train acc: 0.606000; val_acc: 0.587000\n",
      "(Iteration 151 / 490) loss: 1.127213\n",
      "(Iteration 161 / 490) loss: 1.246500\n",
      "(Iteration 171 / 490) loss: 1.022486\n",
      "(Iteration 181 / 490) loss: 1.069918\n",
      "(Iteration 191 / 490) loss: 1.033724\n",
      "(Epoch 4 / 10) train acc: 0.675000; val_acc: 0.592000\n",
      "(Iteration 201 / 490) loss: 1.071139\n",
      "(Iteration 211 / 490) loss: 1.017288\n",
      "(Iteration 221 / 490) loss: 1.029822\n",
      "(Iteration 231 / 490) loss: 1.010857\n",
      "(Iteration 241 / 490) loss: 0.980109\n",
      "(Epoch 5 / 10) train acc: 0.666000; val_acc: 0.621000\n",
      "(Iteration 251 / 490) loss: 0.965043\n",
      "(Iteration 261 / 490) loss: 0.942475\n",
      "(Iteration 271 / 490) loss: 0.914137\n",
      "(Iteration 281 / 490) loss: 0.878036\n",
      "(Iteration 291 / 490) loss: 0.838233\n",
      "(Epoch 6 / 10) train acc: 0.719000; val_acc: 0.634000\n",
      "(Iteration 301 / 490) loss: 0.846275\n",
      "(Iteration 311 / 490) loss: 0.936196\n",
      "(Iteration 321 / 490) loss: 0.830039\n",
      "(Iteration 331 / 490) loss: 0.829080\n",
      "(Iteration 341 / 490) loss: 0.836589\n",
      "(Epoch 7 / 10) train acc: 0.726000; val_acc: 0.640000\n",
      "(Iteration 351 / 490) loss: 0.848142\n",
      "(Iteration 361 / 490) loss: 0.790961\n",
      "(Iteration 371 / 490) loss: 0.838548\n",
      "(Iteration 381 / 490) loss: 0.824086\n",
      "(Iteration 391 / 490) loss: 0.840320\n",
      "(Epoch 8 / 10) train acc: 0.772000; val_acc: 0.648000\n",
      "(Iteration 401 / 490) loss: 0.829079\n",
      "(Iteration 411 / 490) loss: 0.762486\n",
      "(Iteration 421 / 490) loss: 0.727938\n",
      "(Iteration 431 / 490) loss: 0.758291\n",
      "(Iteration 441 / 490) loss: 0.718727\n",
      "(Epoch 9 / 10) train acc: 0.765000; val_acc: 0.661000\n",
      "(Iteration 451 / 490) loss: 0.737151\n",
      "(Iteration 461 / 490) loss: 0.698994\n",
      "(Iteration 471 / 490) loss: 0.766239\n",
      "(Iteration 481 / 490) loss: 0.672790\n",
      "(Epoch 10 / 10) train acc: 0.811000; val_acc: 0.642000\n"
     ]
    }
   ],
   "source": [
    "# ================================================================ #\n",
    "# YOUR CODE HERE:\n",
    "#   Implement a CNN to achieve greater than 65% validation accuracy\n",
    "#   on CIFAR-10.\n",
    "# ================================================================ #\n",
    "\n",
    "model = ThreeLayerConvNet(weight_scale=0.001, hidden_dim=500, reg=0.001)\n",
    "solver = Solver(model, data,\n",
    "                num_epochs=10, batch_size=1000,\n",
    "                update_rule='adam',\n",
    "                optim_config={\n",
    "                'learning_rate': 1e-3,\n",
    "                },\n",
    "                verbose=True, print_every=10)\n",
    "solver.train()\n",
    "# ================================================================ #\n",
    "# END YOUR CODE HERE\n",
    "# ================================================================ #\n"
   ]
  },
  {
   "cell_type": "code",
   "execution_count": 8,
   "metadata": {},
   "outputs": [
    {
     "data": {
      "text/plain": [
       "\" \\n# I used here to see which parameters can be changed\\n\\nmodel = ThreeLayerConvNet(self, input_dim=(3, 32, 32), num_filters=32, filter_size=7,\\n               hidden_dim=100, num_classes=10, weight_scale=1e-3, reg=1e-3,\\n               dtype=np.float32, use_batchnorm=True)\\n\\nsolver = Solver(model, data,\\n                num_epochs=10, batch_size=1000,\\n                update_rule='adam',\\n                lr_decay = 0.95,\\n                optim_config={\\n                'learning_rate': 1e-3,\\n                },\\n                verbose=True, print_every=10)\\nsolver.train()\\n\""
      ]
     },
     "execution_count": 8,
     "metadata": {},
     "output_type": "execute_result"
    }
   ],
   "source": [
    "\"\"\" \n",
    "# I used here to see which parameters can be changed\n",
    "\n",
    "model = ThreeLayerConvNet(self, input_dim=(3, 32, 32), num_filters=32, filter_size=7,\n",
    "               hidden_dim=100, num_classes=10, weight_scale=1e-3, reg=1e-3,\n",
    "               dtype=np.float32, use_batchnorm=True)\n",
    "\n",
    "solver = Solver(model, data,\n",
    "                num_epochs=10, batch_size=1000,\n",
    "                update_rule='adam',\n",
    "                lr_decay = 0.95,\n",
    "                optim_config={\n",
    "                'learning_rate': 1e-3,\n",
    "                },\n",
    "                verbose=True, print_every=10)\n",
    "solver.train()\n",
    "\"\"\""
   ]
  }
 ],
 "metadata": {
  "kernelspec": {
   "display_name": "Python 3 (ipykernel)",
   "language": "python",
   "name": "python3"
  },
  "language_info": {
   "codemirror_mode": {
    "name": "ipython",
    "version": 3
   },
   "file_extension": ".py",
   "mimetype": "text/x-python",
   "name": "python",
   "nbconvert_exporter": "python",
   "pygments_lexer": "ipython3",
   "version": "3.9.13"
  },
  "pycharm": {
   "stem_cell": {
    "cell_type": "raw",
    "metadata": {
     "collapsed": false
    },
    "source": []
   }
  }
 },
 "nbformat": 4,
 "nbformat_minor": 2
}
