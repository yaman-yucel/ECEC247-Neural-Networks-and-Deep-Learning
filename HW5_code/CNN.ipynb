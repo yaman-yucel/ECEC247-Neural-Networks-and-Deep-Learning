{
 "cells": [
  {
   "cell_type": "markdown",
   "metadata": {},
   "source": [
    "# Convolutional neural networks\n",
    "\n",
    "In this notebook, we'll put together our convolutional layers to implement a 3-layer CNN.  Then, we'll ask you to implement a CNN that can achieve > 65% validation error on CIFAR-10.\n",
    "\n",
    "If you have not completed the Spatial BatchNorm Notebook, please see the following description from that notebook:\n",
    "\n",
    "Please copy and paste your prior implemented code from HW #4 to start this assignment.  If you did not correctly implement the layers in HW #4, you may collaborate with a classmate to use their layer implementations from HW #4.  You may also visit TA or Prof OH to correct your implementation.  \n",
    "\n",
    "You'll want to copy and paste from HW #4:\n",
    "    - layers.py for your FC network layers, as well as batchnorm and dropout.\n",
    "    - layer_utils.py for your combined FC network layers.\n",
    "    - optim.py for your optimizers.\n",
    "\n",
    "Be sure to place these in the `nndl/` directory so they're imported correctly.  Note, as announced in class, we will not be releasing our solutions."
   ]
  },
  {
   "cell_type": "code",
   "execution_count": 1,
   "metadata": {},
   "outputs": [],
   "source": [
    "# As usual, a bit of setup\n",
    "\n",
    "import numpy as np\n",
    "import matplotlib.pyplot as plt\n",
    "from nndl.cnn import *\n",
    "from utils.data_utils import get_CIFAR10_data\n",
    "from utils.gradient_check import eval_numerical_gradient_array, eval_numerical_gradient\n",
    "from nndl.layers import *\n",
    "from nndl.conv_layers import *\n",
    "from utils.fast_layers import *\n",
    "from utils.solver import Solver\n",
    "\n",
    "%matplotlib inline\n",
    "plt.rcParams['figure.figsize'] = (10.0, 8.0) # set default size of plots\n",
    "plt.rcParams['image.interpolation'] = 'nearest'\n",
    "plt.rcParams['image.cmap'] = 'gray'\n",
    "\n",
    "# for auto-reloading external modules\n",
    "# see http://stackoverflow.com/questions/1907993/autoreload-of-modules-in-ipython\n",
    "%load_ext autoreload\n",
    "%autoreload 2\n",
    "\n",
    "def rel_error(x, y):\n",
    "  \"\"\" returns relative error \"\"\"\n",
    "  return np.max(np.abs(x - y) / (np.maximum(1e-8, np.abs(x) + np.abs(y))))"
   ]
  },
  {
   "cell_type": "code",
   "execution_count": 2,
   "metadata": {},
   "outputs": [
    {
     "name": "stdout",
     "output_type": "stream",
     "text": [
      "X_train: (49000, 3, 32, 32) \n",
      "y_train: (49000,) \n",
      "X_val: (1000, 3, 32, 32) \n",
      "y_val: (1000,) \n",
      "X_test: (1000, 3, 32, 32) \n",
      "y_test: (1000,) \n"
     ]
    }
   ],
   "source": [
    "# Load the (preprocessed) CIFAR10 data.\n",
    "\n",
    "data = get_CIFAR10_data()\n",
    "for k in data.keys():\n",
    "  print('{}: {} '.format(k, data[k].shape))"
   ]
  },
  {
   "cell_type": "markdown",
   "metadata": {},
   "source": [
    "## Three layer CNN\n",
    "\n",
    "In this notebook, you will implement a three layer CNN.  The `ThreeLayerConvNet` class is in `nndl/cnn.py`.  You'll need to modify that code for this section, including the initialization, as well as the calculation of the loss and gradients.  You should be able to use the building blocks you have either earlier coded or that we have provided.  Be sure to use the fast layers.\n",
    "\n",
    "The architecture of this CNN will be:\n",
    "\n",
    "conv - relu - 2x2 max pool - affine - relu - affine - softmax\n",
    "\n",
    "We won't use batchnorm yet.  You've also done enough of these to know how to debug; use the cells below.\n",
    "\n",
    "Note: As we are implementing several layers CNN networks. The gradient error can be expected for the `eval_numerical_gradient()` function. If your `W1 max relative error` and `W2 max relative error` are around or below 0.01, they should be acceptable. Other errors should be less than 1e-5. "
   ]
  },
  {
   "cell_type": "code",
   "execution_count": 3,
   "metadata": {},
   "outputs": [
    {
     "name": "stdout",
     "output_type": "stream",
     "text": [
      "W1 max relative error: 0.00014266947341464817\n",
      "W2 max relative error: 0.010526612646796649\n",
      "W3 max relative error: 0.0002806485855424487\n",
      "b1 max relative error: 7.116381199585126e-05\n",
      "b2 max relative error: 6.593377672518949e-07\n",
      "b3 max relative error: 1.4712289610079897e-09\n"
     ]
    }
   ],
   "source": [
    "num_inputs = 2\n",
    "input_dim = (3, 16, 16)\n",
    "reg = 0.0\n",
    "num_classes = 10\n",
    "X = np.random.randn(num_inputs, *input_dim)\n",
    "y = np.random.randint(num_classes, size=num_inputs)\n",
    "\n",
    "model = ThreeLayerConvNet(num_filters=3, filter_size=3,\n",
    "                          input_dim=input_dim, hidden_dim=7,\n",
    "                          dtype=np.float64)\n",
    "loss, grads = model.loss(X, y)\n",
    "for param_name in sorted(grads):\n",
    "    f = lambda _: model.loss(X, y)[0]\n",
    "    param_grad_num = eval_numerical_gradient(f, model.params[param_name], verbose=False, h=1e-6)\n",
    "    e = rel_error(param_grad_num, grads[param_name])\n",
    "    print('{} max relative error: {}'.format(param_name, rel_error(param_grad_num, grads[param_name])))"
   ]
  },
  {
   "cell_type": "markdown",
   "metadata": {},
   "source": [
    "### Overfit small dataset\n",
    "\n",
    "To check your CNN implementation, let's overfit a small dataset."
   ]
  },
  {
   "cell_type": "code",
   "execution_count": 4,
   "metadata": {},
   "outputs": [
    {
     "name": "stdout",
     "output_type": "stream",
     "text": [
      "(Iteration 1 / 20) loss: 2.282205\n",
      "(Epoch 0 / 10) train acc: 0.300000; val_acc: 0.124000\n",
      "(Iteration 2 / 20) loss: 4.254238\n",
      "(Epoch 1 / 10) train acc: 0.240000; val_acc: 0.122000\n",
      "(Iteration 3 / 20) loss: 2.792451\n",
      "(Iteration 4 / 20) loss: 2.095923\n",
      "(Epoch 2 / 10) train acc: 0.370000; val_acc: 0.166000\n",
      "(Iteration 5 / 20) loss: 2.132012\n",
      "(Iteration 6 / 20) loss: 1.821241\n",
      "(Epoch 3 / 10) train acc: 0.450000; val_acc: 0.166000\n",
      "(Iteration 7 / 20) loss: 1.809644\n",
      "(Iteration 8 / 20) loss: 1.516281\n",
      "(Epoch 4 / 10) train acc: 0.580000; val_acc: 0.189000\n",
      "(Iteration 9 / 20) loss: 1.468933\n",
      "(Iteration 10 / 20) loss: 1.123248\n",
      "(Epoch 5 / 10) train acc: 0.590000; val_acc: 0.149000\n",
      "(Iteration 11 / 20) loss: 1.259533\n",
      "(Iteration 12 / 20) loss: 1.045123\n",
      "(Epoch 6 / 10) train acc: 0.680000; val_acc: 0.172000\n",
      "(Iteration 13 / 20) loss: 0.767402\n",
      "(Iteration 14 / 20) loss: 0.886044\n",
      "(Epoch 7 / 10) train acc: 0.790000; val_acc: 0.202000\n",
      "(Iteration 15 / 20) loss: 0.858364\n",
      "(Iteration 16 / 20) loss: 0.478033\n",
      "(Epoch 8 / 10) train acc: 0.850000; val_acc: 0.200000\n",
      "(Iteration 17 / 20) loss: 0.577705\n",
      "(Iteration 18 / 20) loss: 0.403593\n",
      "(Epoch 9 / 10) train acc: 0.870000; val_acc: 0.192000\n",
      "(Iteration 19 / 20) loss: 0.667685\n",
      "(Iteration 20 / 20) loss: 0.481448\n",
      "(Epoch 10 / 10) train acc: 0.920000; val_acc: 0.188000\n"
     ]
    }
   ],
   "source": [
    "num_train = 100\n",
    "small_data = {\n",
    "  'X_train': data['X_train'][:num_train],\n",
    "  'y_train': data['y_train'][:num_train],\n",
    "  'X_val': data['X_val'],\n",
    "  'y_val': data['y_val'],\n",
    "}\n",
    "\n",
    "model = ThreeLayerConvNet(weight_scale=1e-2)\n",
    "\n",
    "solver = Solver(model, small_data,\n",
    "                num_epochs=10, batch_size=50,\n",
    "                update_rule='adam',\n",
    "                optim_config={\n",
    "                  'learning_rate': 1e-3,\n",
    "                },\n",
    "                verbose=True, print_every=1)\n",
    "solver.train()"
   ]
  },
  {
   "cell_type": "code",
   "execution_count": 5,
   "metadata": {},
   "outputs": [
    {
     "data": {
      "image/png": "[encoded data removed]",
      "text/plain": [
       "<Figure size 1000x800 with 2 Axes>"
      ]
     },
     "metadata": {},
     "output_type": "display_data"
    }
   ],
   "source": [
    "plt.subplot(2, 1, 1)\n",
    "plt.plot(solver.loss_history, 'o')\n",
    "plt.xlabel('iteration')\n",
    "plt.ylabel('loss')\n",
    "\n",
    "plt.subplot(2, 1, 2)\n",
    "plt.plot(solver.train_acc_history, '-o')\n",
    "plt.plot(solver.val_acc_history, '-o')\n",
    "plt.legend(['train', 'val'], loc='upper left')\n",
    "plt.xlabel('epoch')\n",
    "plt.ylabel('accuracy')\n",
    "plt.show()"
   ]
  },
  {
   "cell_type": "markdown",
   "metadata": {},
   "source": [
    "## Train the network\n",
    "\n",
    "Now we train the 3 layer CNN on CIFAR-10 and assess its accuracy."
   ]
  },
  {
   "cell_type": "code",
   "execution_count": 6,
   "metadata": {
    "scrolled": false
   },
   "outputs": [
    {
     "name": "stdout",
     "output_type": "stream",
     "text": [
      "(Iteration 1 / 980) loss: 2.304400\n",
      "(Epoch 0 / 1) train acc: 0.139000; val_acc: 0.137000\n",
      "(Iteration 21 / 980) loss: 2.674096\n",
      "(Iteration 41 / 980) loss: 1.943157\n",
      "(Iteration 61 / 980) loss: 2.355880\n",
      "(Iteration 81 / 980) loss: 1.891819\n",
      "(Iteration 101 / 980) loss: 2.012828\n",
      "(Iteration 121 / 980) loss: 1.873694\n",
      "(Iteration 141 / 980) loss: 1.755333\n",
      "(Iteration 161 / 980) loss: 1.682914\n",
      "(Iteration 181 / 980) loss: 1.815634\n",
      "(Iteration 201 / 980) loss: 1.682235\n",
      "(Iteration 221 / 980) loss: 2.011169\n",
      "(Iteration 241 / 980) loss: 1.638945\n",
      "(Iteration 261 / 980) loss: 1.787265\n",
      "(Iteration 281 / 980) loss: 1.933533\n",
      "(Iteration 301 / 980) loss: 1.681778\n",
      "(Iteration 321 / 980) loss: 1.808253\n",
      "(Iteration 341 / 980) loss: 1.513790\n",
      "(Iteration 361 / 980) loss: 1.446696\n",
      "(Iteration 381 / 980) loss: 1.577809\n",
      "(Iteration 401 / 980) loss: 1.748466\n",
      "(Iteration 421 / 980) loss: 1.770751\n",
      "(Iteration 441 / 980) loss: 1.728824\n",
      "(Iteration 461 / 980) loss: 1.434100\n",
      "(Iteration 481 / 980) loss: 1.824666\n",
      "(Iteration 501 / 980) loss: 1.649457\n",
      "(Iteration 521 / 980) loss: 1.504636\n",
      "(Iteration 541 / 980) loss: 1.610422\n",
      "(Iteration 561 / 980) loss: 1.462938\n",
      "(Iteration 581 / 980) loss: 1.568390\n",
      "(Iteration 601 / 980) loss: 1.557461\n",
      "(Iteration 621 / 980) loss: 2.082552\n",
      "(Iteration 641 / 980) loss: 1.487003\n",
      "(Iteration 661 / 980) loss: 1.418908\n",
      "(Iteration 681 / 980) loss: 1.800945\n",
      "(Iteration 701 / 980) loss: 1.792656\n",
      "(Iteration 721 / 980) loss: 1.611114\n",
      "(Iteration 741 / 980) loss: 1.502861\n",
      "(Iteration 761 / 980) loss: 1.696393\n",
      "(Iteration 781 / 980) loss: 1.589129\n",
      "(Iteration 801 / 980) loss: 1.463187\n",
      "(Iteration 821 / 980) loss: 1.648478\n",
      "(Iteration 841 / 980) loss: 1.932970\n",
      "(Iteration 861 / 980) loss: 1.610204\n",
      "(Iteration 881 / 980) loss: 1.471085\n",
      "(Iteration 901 / 980) loss: 1.505730\n",
      "(Iteration 921 / 980) loss: 1.184835\n",
      "(Iteration 941 / 980) loss: 1.605729\n",
      "(Iteration 961 / 980) loss: 1.466829\n",
      "(Epoch 1 / 1) train acc: 0.469000; val_acc: 0.488000\n"
     ]
    }
   ],
   "source": [
    "model = ThreeLayerConvNet(weight_scale=0.001, hidden_dim=500, reg=0.001)\n",
    "\n",
    "solver = Solver(model, data,\n",
    "                num_epochs=1, batch_size=50,\n",
    "                update_rule='adam',\n",
    "                optim_config={\n",
    "                  'learning_rate': 1e-3,\n",
    "                },\n",
    "                verbose=True, print_every=20)\n",
    "solver.train()"
   ]
  },
  {
   "cell_type": "markdown",
   "metadata": {},
   "source": [
    "# Get > 65% validation accuracy on CIFAR-10.\n",
    "\n",
    "In the last part of the assignment, we'll now ask you to train a CNN to get better than 65% validation accuracy on CIFAR-10.\n",
    "\n",
    "### Things you should try:\n",
    "- Filter size: Above we used 7x7; but VGGNet and onwards showed stacks of 3x3 filters are good.  \n",
    "- Number of filters: Above we used 32 filters. Do more or fewer do better?\n",
    "- Batch normalization: Try adding spatial batch normalization after convolution layers and vanilla batch normalization aafter affine layers. Do your networks train faster?\n",
    "- Network architecture: Can a deeper CNN do better?  Consider these architectures:\n",
    "    - [conv-relu-pool]xN - conv - relu - [affine]xM - [softmax or SVM]\n",
    "    - [conv-relu-pool]XN - [affine]XM - [softmax or SVM]\n",
    "    - [conv-relu-conv-relu-pool]xN - [affine]xM - [softmax or SVM]\n",
    "\n",
    "### Tips for training\n",
    "For each network architecture that you try, you should tune the learning rate and regularization strength. When doing this there are a couple important things to keep in mind:\n",
    "\n",
    "- If the parameters are working well, you should see improvement within a few hundred iterations\n",
    "- Remember the coarse-to-fine approach for hyperparameter tuning: start by testing a large range of hyperparameters for just a few training iterations to find the combinations of parameters that are working at all.\n",
    "- Once you have found some sets of parameters that seem to work, search more finely around these parameters. You may need to train for more epochs."
   ]
  },
  {
   "cell_type": "code",
   "execution_count": 8,
   "metadata": {
    "scrolled": false
   },
   "outputs": [
    {
     "name": "stdout",
     "output_type": "stream",
     "text": [
      "(Iteration 1 / 490) loss: 2.306692\n",
      "(Epoch 0 / 10) train acc: 0.119000; val_acc: 0.119000\n",
      "(Iteration 11 / 490) loss: 2.125276\n",
      "(Iteration 21 / 490) loss: 1.803713\n",
      "(Iteration 31 / 490) loss: 1.692730\n",
      "(Iteration 41 / 490) loss: 1.587318\n",
      "(Epoch 1 / 10) train acc: 0.477000; val_acc: 0.511000\n",
      "(Iteration 51 / 490) loss: 1.506039\n",
      "(Iteration 61 / 490) loss: 1.455957\n",
      "(Iteration 71 / 490) loss: 1.454727\n",
      "(Iteration 81 / 490) loss: 1.356845\n",
      "(Iteration 91 / 490) loss: 1.319754\n",
      "(Epoch 2 / 10) train acc: 0.559000; val_acc: 0.560000\n",
      "(Iteration 101 / 490) loss: 1.323770\n",
      "(Iteration 111 / 490) loss: 1.252332\n",
      "(Iteration 121 / 490) loss: 1.238275\n",
      "(Iteration 131 / 490) loss: 1.236292\n",
      "(Iteration 141 / 490) loss: 1.175816\n",
      "(Epoch 3 / 10) train acc: 0.601000; val_acc: 0.584000\n",
      "(Iteration 151 / 490) loss: 1.239669\n",
      "(Iteration 161 / 490) loss: 1.101122\n",
      "(Iteration 171 / 490) loss: 1.097917\n",
      "(Iteration 181 / 490) loss: 1.050101\n",
      "(Iteration 191 / 490) loss: 1.073609\n",
      "(Epoch 4 / 10) train acc: 0.653000; val_acc: 0.604000\n",
      "(Iteration 201 / 490) loss: 1.090483\n",
      "(Iteration 211 / 490) loss: 1.060792\n",
      "(Iteration 221 / 490) loss: 1.070918\n",
      "(Iteration 231 / 490) loss: 0.957499\n",
      "(Iteration 241 / 490) loss: 0.974188\n",
      "(Epoch 5 / 10) train acc: 0.694000; val_acc: 0.653000\n",
      "(Iteration 251 / 490) loss: 0.902507\n",
      "(Iteration 261 / 490) loss: 0.865422\n",
      "(Iteration 271 / 490) loss: 0.944982\n",
      "(Iteration 281 / 490) loss: 0.884322\n",
      "(Iteration 291 / 490) loss: 0.849965\n",
      "(Epoch 6 / 10) train acc: 0.723000; val_acc: 0.650000\n",
      "(Iteration 301 / 490) loss: 0.865890\n",
      "(Iteration 311 / 490) loss: 0.842320\n",
      "(Iteration 321 / 490) loss: 0.874008\n",
      "(Iteration 331 / 490) loss: 0.832901\n",
      "(Iteration 341 / 490) loss: 0.792152\n",
      "(Epoch 7 / 10) train acc: 0.761000; val_acc: 0.630000\n",
      "(Iteration 351 / 490) loss: 0.883844\n",
      "(Iteration 361 / 490) loss: 0.781635\n",
      "(Iteration 371 / 490) loss: 0.767589\n",
      "(Iteration 381 / 490) loss: 0.802804\n",
      "(Iteration 391 / 490) loss: 0.730505\n",
      "(Epoch 8 / 10) train acc: 0.765000; val_acc: 0.653000\n",
      "(Iteration 401 / 490) loss: 0.720166\n",
      "(Iteration 411 / 490) loss: 0.714880\n",
      "(Iteration 421 / 490) loss: 0.650941\n",
      "(Iteration 431 / 490) loss: 0.713213\n",
      "(Iteration 441 / 490) loss: 0.634855\n",
      "(Epoch 9 / 10) train acc: 0.802000; val_acc: 0.686000\n",
      "(Iteration 451 / 490) loss: 0.622079\n",
      "(Iteration 461 / 490) loss: 0.646740\n",
      "(Iteration 471 / 490) loss: 0.711556\n",
      "(Iteration 481 / 490) loss: 0.690335\n",
      "(Epoch 10 / 10) train acc: 0.823000; val_acc: 0.660000\n"
     ]
    }
   ],
   "source": [
    "# ================================================================ #\n",
    "# YOUR CODE HERE:\n",
    "#   Implement a CNN to achieve greater than 65% validation accuracy\n",
    "#   on CIFAR-10.\n",
    "# ================================================================ #\n",
    "\n",
    "model = ThreeLayerConvNet( input_dim=(3, 32, 32), num_filters=32, filter_size=7,\n",
    "               hidden_dim=1000, num_classes=10, weight_scale=1e-3, reg=1e-3,\n",
    "               dtype=np.float32, use_batchnorm=False)\n",
    "solver = Solver(model, data,\n",
    "                num_epochs=10, batch_size=1000,\n",
    "                update_rule='adam',\n",
    "                lr_decay = 0.99,\n",
    "                optim_config={\n",
    "                'learning_rate': 1e-3,\n",
    "                },\n",
    "                verbose=True, print_every=10)\n",
    "solver.train()\n",
    "# ================================================================ #\n",
    "# END YOUR CODE HERE\n",
    "# ================================================================ #\n"
   ]
  },
  {
   "cell_type": "code",
   "execution_count": null,
   "metadata": {},
   "outputs": [],
   "source": [
    "\"\"\" \n",
    "# I used here to see which parameters can be changed\n",
    "\n",
    "model = ThreeLayerConvNet( input_dim=(3, 32, 32), num_filters=32, filter_size=7,\n",
    "               hidden_dim=100, num_classes=10, weight_scale=1e-3, reg=1e-3,\n",
    "               dtype=np.float32, use_batchnorm=True)\n",
    "\n",
    "solver = Solver(model, data,\n",
    "                num_epochs=10, batch_size=1000,\n",
    "                update_rule='adam',\n",
    "                lr_decay = 0.95,\n",
    "                optim_config={\n",
    "                'learning_rate': 1e-3,\n",
    "                },\n",
    "                verbose=True, print_every=10)\n",
    "solver.train()\n",
    "\"\"\""
   ]
  }
 ],
 "metadata": {
  "kernelspec": {
   "display_name": "Python 3 (ipykernel)",
   "language": "python",
   "name": "python3"
  },
  "language_info": {
   "codemirror_mode": {
    "name": "ipython",
    "version": 3
   },
   "file_extension": ".py",
   "mimetype": "text/x-python",
   "name": "python",
   "nbconvert_exporter": "python",
   "pygments_lexer": "ipython3",
   "version": "3.9.13"
  },
  "pycharm": {
   "stem_cell": {
    "cell_type": "raw",
    "metadata": {
     "collapsed": false
    },
    "source": []
   }
  }
 },
 "nbformat": 4,
 "nbformat_minor": 2
}
