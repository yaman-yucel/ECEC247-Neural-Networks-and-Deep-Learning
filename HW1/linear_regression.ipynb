{
  "cells": [
    {
      "cell_type": "markdown",
      "metadata": {
        "id": "6FczQUPGAB7-"
      },
      "source": [
        "## Linear regression workbook\n",
        "\n",
        "This workbook will walk you through a linear regression example. It will provide familiarity with Jupyter Notebook and Python.  Please print (to pdf) a completed version of this workbook for submission with HW #1.\n",
        "\n",
        "ECE C147/C247, Winter Quarter 2023, Prof. J.C. Kao, TAs: T.M, P.L, R.G, K.K, N.V, S.R, S.P, M.E"
      ]
    },
    {
      "cell_type": "code",
      "source": [
        "from google.colab import drive\n",
        "drive.mount('/content/drive')\n",
        "!pip install -r '/content/drive/My Drive/DL_247/HW1/requirements.txt';"
      ],
      "metadata": {
        "colab": {
          "base_uri": "https://localhost:8080/",
          "height": 0
        },
        "id": "5INTZg-1AG6N",
        "outputId": "301134e3-721c-46fb-d9cf-5c3da729698c"
      },
      "execution_count": 1,
      "outputs": [
        {
          "output_type": "stream",
          "name": "stdout",
          "text": [
            "Drive already mounted at /content/drive; to attempt to forcibly remount, call drive.mount(\"/content/drive\", force_remount=True).\n",
            "Looking in indexes: https://pypi.org/simple, https://us-python.pkg.dev/colab-wheels/public/simple/\n",
            "Collecting appnope==0.1.0\n",
            "  Using cached appnope-0.1.0-py2.py3-none-any.whl (4.0 kB)\n",
            "Collecting bleach==2.1.2\n",
            "  Using cached bleach-2.1.2-py2.py3-none-any.whl (27 kB)\n",
            "Collecting decorator==4.1.2\n",
            "  Using cached decorator-4.1.2-py2.py3-none-any.whl (9.1 kB)\n",
            "Collecting entrypoints==0.2.3\n",
            "  Using cached entrypoints-0.2.3-py2.py3-none-any.whl (9.4 kB)\n",
            "Collecting fancycompleter==0.8\n",
            "  Using cached fancycompleter-0.8.tar.gz (514 kB)\n",
            "  Preparing metadata (setup.py) ... \u001b[?25l\u001b[?25hdone\n",
            "Requirement already satisfied: html5lib==1.0.1 in /usr/local/lib/python3.8/dist-packages (from -r /content/drive/My Drive/DL_247/HW1/requirements.txt (line 6)) (1.0.1)\n",
            "Collecting ipykernel==4.7.0\n",
            "  Using cached ipykernel-4.7.0-py3-none-any.whl (106 kB)\n",
            "Collecting ipython==6.2.1\n",
            "  Using cached ipython-6.2.1-py3-none-any.whl (745 kB)\n",
            "Requirement already satisfied: ipython-genutils==0.2.0 in /usr/local/lib/python3.8/dist-packages (from -r /content/drive/My Drive/DL_247/HW1/requirements.txt (line 9)) (0.2.0)\n",
            "Collecting ipywidgets==7.1.0\n",
            "  Using cached ipywidgets-7.1.0-py2.py3-none-any.whl (68 kB)\n",
            "Collecting jedi==0.11.1\n",
            "  Using cached jedi-0.11.1-py2.py3-none-any.whl (250 kB)\n",
            "Collecting Jinja2==2.10\n",
            "  Using cached Jinja2-2.10-py2.py3-none-any.whl (126 kB)\n",
            "Collecting jsonschema==2.6.0\n",
            "  Using cached jsonschema-2.6.0-py2.py3-none-any.whl (39 kB)\n",
            "Collecting jupyter==1.0.0\n",
            "  Using cached jupyter-1.0.0-py2.py3-none-any.whl (2.7 kB)\n",
            "Collecting jupyter-client==5.2.1\n",
            "  Using cached jupyter_client-5.2.1-py2.py3-none-any.whl (88 kB)\n",
            "Collecting jupyter-console==5.2.0\n",
            "  Using cached jupyter_console-5.2.0-py2.py3-none-any.whl (20 kB)\n",
            "Collecting jupyter-core==4.4.0\n",
            "  Using cached jupyter_core-4.4.0-py2.py3-none-any.whl (126 kB)\n",
            "Collecting MarkupSafe==1.0\n",
            "  Using cached MarkupSafe-1.0.tar.gz (14 kB)\n",
            "  \u001b[1;31merror\u001b[0m: \u001b[1msubprocess-exited-with-error\u001b[0m\n",
            "  \n",
            "  \u001b[31m×\u001b[0m \u001b[32mpython setup.py egg_info\u001b[0m did not run successfully.\n",
            "  \u001b[31m│\u001b[0m exit code: \u001b[1;36m1\u001b[0m\n",
            "  \u001b[31m╰─>\u001b[0m See above for output.\n",
            "  \n",
            "  \u001b[1;35mnote\u001b[0m: This error originates from a subprocess, and is likely not a problem with pip.\n",
            "  Preparing metadata (setup.py) ... \u001b[?25l\u001b[?25herror\n",
            "\u001b[1;31merror\u001b[0m: \u001b[1mmetadata-generation-failed\u001b[0m\n",
            "\n",
            "\u001b[31m×\u001b[0m Encountered error while generating package metadata.\n",
            "\u001b[31m╰─>\u001b[0m See above for output.\n",
            "\n",
            "\u001b[1;35mnote\u001b[0m: This is an issue with the package mentioned above, not pip.\n",
            "\u001b[1;36mhint\u001b[0m: See above for details.\n"
          ]
        }
      ]
    },
    {
      "cell_type": "code",
      "execution_count": 2,
      "metadata": {
        "collapsed": true,
        "id": "HEup5PhRAB8A"
      },
      "outputs": [],
      "source": [
        "import numpy as np \n",
        "import matplotlib.pyplot as plt\n",
        "\n",
        "#allows matlab plots to be generated in line\n",
        "%matplotlib inline "
      ]
    },
    {
      "cell_type": "markdown",
      "metadata": {
        "id": "_I7ZV4N4AB8B"
      },
      "source": [
        "### Data generation\n",
        "\n",
        "For any example, we first have to generate some appropriate data to use. The following cell generates data according to the model: $y = x - 2x^2 + x^3 + \\epsilon$"
      ]
    },
    {
      "cell_type": "code",
      "execution_count": 3,
      "metadata": {
        "collapsed": true,
        "colab": {
          "base_uri": "https://localhost:8080/",
          "height": 296
        },
        "id": "Rx5MrQN6AB8C",
        "outputId": "c1e23f2c-2fb6-4763-c6cd-63f9b834a92e"
      },
      "outputs": [
        {
          "output_type": "execute_result",
          "data": {
            "text/plain": [
              "Text(0, 0.5, '$y$')"
            ]
          },
          "metadata": {},
          "execution_count": 3
        },
        {
          "output_type": "display_data",
          "data": {
            "text/plain": [
              "<Figure size 432x288 with 1 Axes>"
            ],
            "image/png": "[encoded data removed]"
          },
          "metadata": {
            "needs_background": "light"
          }
        }
      ],
      "source": [
        "np.random.seed(0)  # Sets the random seed.\n",
        "num_train = 200     # Number of training data points\n",
        "\n",
        "# Generate the training data\n",
        "x = np.random.uniform(low=0, high=1, size=(num_train,))\n",
        "y = x - 2*x**2 + x**3 + np.random.normal(loc=0, scale=0.03, size=(num_train,))\n",
        "f = plt.figure()\n",
        "ax = f.gca()\n",
        "ax.plot(x, y, '.')\n",
        "ax.set_xlabel('$x$')\n",
        "ax.set_ylabel('$y$')"
      ]
    },
    {
      "cell_type": "markdown",
      "metadata": {
        "id": "h_lJFrCGAB8C"
      },
      "source": [
        "### QUESTIONS:\n",
        "\n",
        "Write your answers in the markdown cell below this one:\n",
        "\n",
        "(1) What is the generating distribution of $x$?\n",
        "\n",
        "(2) What is the distribution of the additive noise $\\epsilon$?"
      ]
    },
    {
      "cell_type": "markdown",
      "metadata": {
        "id": "n2uyzmSpAB8D"
      },
      "source": [
        "### ANSWERS:\n",
        "\n",
        "(1) $x$ is uniformly distributed between 0 and 1 (1 excluded).\n",
        "\n",
        "(2) $\\epsilon$ is normally distributed with $\\mu$ = 0 and $\\sigma$ = 0.03. "
      ]
    },
    {
      "cell_type": "markdown",
      "metadata": {
        "id": "1Okh49r3AB8D"
      },
      "source": [
        "### Fitting data to the model (5 points)\n",
        "\n",
        "Here, we'll do linear regression to fit the parameters of a model $y = ax + b$."
      ]
    },
    {
      "cell_type": "code",
      "execution_count": 4,
      "metadata": {
        "collapsed": true,
        "colab": {
          "base_uri": "https://localhost:8080/",
          "height": 0
        },
        "id": "eqVYmhAgAB8D",
        "outputId": "ce1b99e1-3cec-498e-c55e-2fc6ca3f4782"
      },
      "outputs": [
        {
          "output_type": "stream",
          "name": "stdout",
          "text": [
            "[-0.10599633  0.13315817]\n"
          ]
        }
      ],
      "source": [
        "# xhat = (x, 1)\n",
        "xhat = np.vstack((x, np.ones_like(x)))\n",
        "\n",
        "# ==================== #\n",
        "# START YOUR CODE HERE #\n",
        "# ==================== #\n",
        "# GOAL: create a variable theta; theta is a numpy array whose elements are [a, b]\n",
        "xhat = xhat.T # xhat Nx2 \n",
        "x_p = np.matmul(np.linalg.inv(np.matmul(np.transpose(xhat), xhat)), np.transpose(xhat)) #(X.TX)^-1X.T\n",
        "theta = np.matmul(x_p, y) # #(X.TX)^-1X.Ty\n",
        "print(theta)\n",
        "# ================== #\n",
        "# END YOUR CODE HERE #\n",
        "# ================== #"
      ]
    },
    {
      "cell_type": "code",
      "execution_count": 5,
      "metadata": {
        "collapsed": true,
        "colab": {
          "base_uri": "https://localhost:8080/",
          "height": 296
        },
        "id": "QK0O6-bqAB8E",
        "outputId": "9e7abdec-ff4b-499c-e873-bb9371ab55ba"
      },
      "outputs": [
        {
          "output_type": "execute_result",
          "data": {
            "text/plain": [
              "[<matplotlib.lines.Line2D at 0x7ffa10f527f0>]"
            ]
          },
          "metadata": {},
          "execution_count": 5
        },
        {
          "output_type": "display_data",
          "data": {
            "text/plain": [
              "<Figure size 432x288 with 1 Axes>"
            ],
            "image/png": "[encoded data removed]"
          },
          "metadata": {
            "needs_background": "light"
          }
        }
      ],
      "source": [
        "# Plot the data and your model fit.\n",
        "f = plt.figure()\n",
        "ax = f.gca()\n",
        "ax.plot(x, y, '.')\n",
        "ax.set_xlabel('$x$')\n",
        "ax.set_ylabel('$y$')\n",
        "\n",
        "# Plot the regression line\n",
        "xs = np.linspace(min(x), max(x),50)\n",
        "xs = np.vstack((xs, np.ones_like(xs)))\n",
        "plt.plot(xs[0,:], theta.dot(xs))"
      ]
    },
    {
      "cell_type": "markdown",
      "metadata": {
        "id": "KMcx2JHkAB8F"
      },
      "source": [
        "### QUESTIONS\n",
        "\n",
        "(1) Does the linear model under- or overfit the data?\n",
        "\n",
        "(2) How to change the model to improve the fitting?"
      ]
    },
    {
      "cell_type": "markdown",
      "metadata": {
        "id": "vlV0-v0HAB8F"
      },
      "source": [
        "### ANSWERS\n",
        "\n",
        "(1) Underfit the data since data seems to be more complex than our fit. (3 dimensional)\n",
        "\n",
        "(2) Polynomial of higher degree can be used to improve fitting."
      ]
    },
    {
      "cell_type": "markdown",
      "metadata": {
        "id": "V-qVgOgrAB8H"
      },
      "source": [
        "### Fitting data to the model (5 points)\n",
        "\n",
        "Here, we'll now do regression to polynomial models of orders 1 to 5.  Note, the order 1 model is the linear model you prior fit."
      ]
    },
    {
      "cell_type": "code",
      "execution_count": 6,
      "metadata": {
        "collapsed": true,
        "colab": {
          "base_uri": "https://localhost:8080/",
          "height": 0
        },
        "id": "P2tJF1qKAB8H",
        "outputId": "a38f9c7d-b242-43e9-9658-a1b7d450f9d2"
      },
      "outputs": [
        {
          "output_type": "stream",
          "name": "stdout",
          "text": [
            "[array([-0.10599633,  0.13315817]), array([-0.48023061,  0.36743967,  0.05521084]), array([ 0.8843808 , -1.82077417,  0.91178032,  0.00979068]), array([ 0.14080037,  0.60466289, -1.64250929,  0.87250485,  0.01175321]), array([ 0.52432591, -1.164568  ,  1.76052438, -2.07430275,  0.93373916,\n",
            "        0.009716  ])]\n"
          ]
        }
      ],
      "source": [
        "\n",
        "N = 5\n",
        "xhats = []\n",
        "thetas = []\n",
        "\n",
        "# ==================== #\n",
        "# START YOUR CODE HERE #\n",
        "# ==================== #\n",
        "\n",
        "# GOAL: create a variable thetas.\n",
        "# thetas is a list, where theta[i] are the model parameters for the polynomial fit of order i+1.\n",
        "#   i.e., thetas[0] is equivalent to theta above.\n",
        "#   i.e., thetas[1] should be a length 3 np.array with the coefficients of the x^2, x, and 1 respectively.\n",
        "#   ... etc.\n",
        "xhats.append(xhat)\n",
        "for i in range(0,N):\n",
        "  if i != 0:\n",
        "    xhats.append(np.hstack((x.reshape(-1,1)**(i+1), x_hat)))\n",
        "\n",
        "  x_hat = xhats[i]\n",
        "  x_p = np.matmul(np.linalg.inv(np.matmul(np.transpose(x_hat),x_hat)), np.transpose(x_hat))\n",
        "  thetas.append(np.matmul(x_p, y))\n",
        "  \n",
        "    \n",
        "\n",
        "print(thetas)\n",
        "# ================== #\n",
        "# END YOUR CODE HERE #\n",
        "# ================== #"
      ]
    },
    {
      "cell_type": "code",
      "execution_count": 7,
      "metadata": {
        "collapsed": true,
        "colab": {
          "base_uri": "https://localhost:8080/",
          "height": 279
        },
        "id": "uR2NifxvAB8I",
        "outputId": "b354da7d-cbe6-4947-b38c-7c66204d2866"
      },
      "outputs": [
        {
          "output_type": "display_data",
          "data": {
            "text/plain": [
              "<Figure size 432x288 with 1 Axes>"
            ],
            "image/png": "[encoded data removed]"
          },
          "metadata": {
            "needs_background": "light"
          }
        }
      ],
      "source": [
        "# Plot the data\n",
        "f = plt.figure()\n",
        "ax = f.gca()\n",
        "ax.plot(x, y, '.')\n",
        "ax.set_xlabel('$x$')\n",
        "ax.set_ylabel('$y$')\n",
        "\n",
        "# Plot the regression lines\n",
        "plot_xs = []\n",
        "for i in np.arange(N):\n",
        "    if i == 0:\n",
        "        plot_x = np.vstack((np.linspace(min(x), max(x),50), np.ones(50)))\n",
        "    else:\n",
        "        plot_x = np.vstack((plot_x[-2]**(i+1), plot_x))                              \n",
        "    plot_xs.append(plot_x)\n",
        "\n",
        "for i in np.arange(N):\n",
        "    ax.plot(plot_xs[i][-2,:], thetas[i].dot(plot_xs[i]))\n",
        "\n",
        "labels = ['data']\n",
        "[labels.append('n={}'.format(i+1)) for i in np.arange(N)]\n",
        "bbox_to_anchor=(1.3, 1)\n",
        "lgd = ax.legend(labels, bbox_to_anchor=bbox_to_anchor)"
      ]
    },
    {
      "cell_type": "markdown",
      "metadata": {
        "id": "RBx4HkMOAB8I"
      },
      "source": [
        "### Calculating the training error (5 points)\n",
        "\n",
        "Here, we'll now calculate the training error of polynomial models of orders 1 to 5."
      ]
    },
    {
      "cell_type": "code",
      "execution_count": 8,
      "metadata": {
        "collapsed": true,
        "colab": {
          "base_uri": "https://localhost:8080/",
          "height": 0
        },
        "id": "8LvXi40YAB8J",
        "outputId": "eb66b783-7bf8-44d8-c555-b6fcba0ebc6a"
      },
      "outputs": [
        {
          "output_type": "stream",
          "name": "stdout",
          "text": [
            "Polynomial with the best training error:  5 th degree polynomial.\n",
            "Training errors are: \n",
            " [0.2379961088362701, 0.10924922209268528, 0.08169603801105368, 0.08165353735296982, 0.08161479195525295]\n"
          ]
        }
      ],
      "source": [
        "training_errors = []\n",
        "\n",
        "# ==================== #\n",
        "# START YOUR CODE HERE #\n",
        "# ==================== #\n",
        "\n",
        "# GOAL: create a variable training_errors, a list of 5 elements,\n",
        "# where training_errors[i] are the training loss for the polynomial fit of order i+1.\n",
        "for i in range(0,N):\n",
        "  theta = thetas[i]\n",
        "  xhat = xhats[i]\n",
        "  yhat = np.matmul(xhat,theta)\n",
        "  error = np.sum((yhat - y)**2)/2\n",
        "  training_errors.append(error)\n",
        "\n",
        "print(\"Polynomial with the best training error: \", np.argmin(training_errors) + 1,\"th degree polynomial.\")\n",
        "# ================== #\n",
        "# END YOUR CODE HERE #\n",
        "# ================== #\n",
        "\n",
        "print ('Training errors are: \\n', training_errors)"
      ]
    },
    {
      "cell_type": "markdown",
      "metadata": {
        "id": "PM2vtQIPAB8J"
      },
      "source": [
        "### QUESTIONS\n",
        "\n",
        "(1) What polynomial has the best training error?\n",
        "\n",
        "(2) Why is this expected?"
      ]
    },
    {
      "cell_type": "markdown",
      "metadata": {
        "id": "ctlmIgOPAB8K"
      },
      "source": [
        "### ANSWERS\n",
        "\n",
        "(1) Polynomial with the best training error is 5th degree polynomial\n",
        "\n",
        "(2) Higher degree polynomials have higher flexibility to fit the training data since they have more parameters to be trained."
      ]
    },
    {
      "cell_type": "markdown",
      "metadata": {
        "id": "qEjLHOfRAB8K"
      },
      "source": [
        "### Generating new samples and testing error (5 points)\n",
        "\n",
        "Here, we'll now generate new samples and calculate testing error of polynomial models of orders 1 to 5."
      ]
    },
    {
      "cell_type": "code",
      "execution_count": 9,
      "metadata": {
        "collapsed": true,
        "colab": {
          "base_uri": "https://localhost:8080/",
          "height": 296
        },
        "id": "JsbTPlU3AB8K",
        "outputId": "8bf4404c-783f-44d9-92d2-42ec4a653fb7"
      },
      "outputs": [
        {
          "output_type": "execute_result",
          "data": {
            "text/plain": [
              "Text(0, 0.5, '$y$')"
            ]
          },
          "metadata": {},
          "execution_count": 9
        },
        {
          "output_type": "display_data",
          "data": {
            "text/plain": [
              "<Figure size 432x288 with 1 Axes>"
            ],
            "image/png": "[encoded data removed]"
          },
          "metadata": {
            "needs_background": "light"
          }
        }
      ],
      "source": [
        "x = np.random.uniform(low=1, high=2, size=(num_train,))\n",
        "y = x - 2*x**2 + x**3 + np.random.normal(loc=0, scale=0.03, size=(num_train,))\n",
        "f = plt.figure()\n",
        "ax = f.gca()\n",
        "ax.plot(x, y, '.')\n",
        "ax.set_xlabel('$x$')\n",
        "ax.set_ylabel('$y$')"
      ]
    },
    {
      "cell_type": "code",
      "execution_count": 10,
      "metadata": {
        "collapsed": true,
        "id": "BgnORBrKAB8L"
      },
      "outputs": [],
      "source": [
        "xhats = []\n",
        "for i in np.arange(N):\n",
        "    if i == 0:\n",
        "        xhat = np.vstack((x, np.ones_like(x)))\n",
        "        plot_x = np.vstack((np.linspace(min(x), max(x),50), np.ones(50)))\n",
        "    else:\n",
        "        xhat = np.vstack((x**(i+1), xhat))\n",
        "        plot_x = np.vstack((plot_x[-2]**(i+1), plot_x))\n",
        "                              \n",
        "    xhats.append(xhat)"
      ]
    },
    {
      "cell_type": "code",
      "execution_count": 11,
      "metadata": {
        "collapsed": true,
        "colab": {
          "base_uri": "https://localhost:8080/",
          "height": 279
        },
        "id": "6u-crDOQAB8L",
        "outputId": "1879d1ad-d5f9-43ff-fd35-58b3a3eb267e"
      },
      "outputs": [
        {
          "output_type": "display_data",
          "data": {
            "text/plain": [
              "<Figure size 432x288 with 1 Axes>"
            ],
            "image/png": "[encoded data removed]"
          },
          "metadata": {
            "needs_background": "light"
          }
        }
      ],
      "source": [
        "# Plot the data\n",
        "f = plt.figure()\n",
        "ax = f.gca()\n",
        "ax.plot(x, y, '.')\n",
        "ax.set_xlabel('$x$')\n",
        "ax.set_ylabel('$y$')\n",
        "\n",
        "# Plot the regression lines\n",
        "plot_xs = []\n",
        "for i in np.arange(N):\n",
        "    if i == 0:\n",
        "        plot_x = np.vstack((np.linspace(min(x), max(x),50), np.ones(50)))\n",
        "    else:\n",
        "        plot_x = np.vstack((plot_x[-2]**(i+1), plot_x))                              \n",
        "    plot_xs.append(plot_x)\n",
        "\n",
        "for i in np.arange(N):\n",
        "    ax.plot(plot_xs[i][-2,:], thetas[i].dot(plot_xs[i]))\n",
        "\n",
        "labels = ['data']\n",
        "[labels.append('n={}'.format(i+1)) for i in np.arange(N)]\n",
        "bbox_to_anchor=(1.3, 1)\n",
        "lgd = ax.legend(labels, bbox_to_anchor=bbox_to_anchor)"
      ]
    },
    {
      "cell_type": "code",
      "execution_count": 12,
      "metadata": {
        "collapsed": true,
        "colab": {
          "base_uri": "https://localhost:8080/",
          "height": 0
        },
        "id": "gK_4LGvQAB8L",
        "outputId": "77b30ea1-ff66-4e78-9e6d-22e4fccfc501"
      },
      "outputs": [
        {
          "output_type": "stream",
          "name": "stdout",
          "text": [
            "Polynomial with the best training error:  4 th degree polynomial.\n",
            "Testing errors are: \n",
            " [80.86165184550579, 213.19192445057894, 3.1256971084092977, 1.1870765211189493, 214.91021748653225]\n"
          ]
        }
      ],
      "source": [
        "testing_errors = []\n",
        "\n",
        "# ==================== #\n",
        "# START YOUR CODE HERE #\n",
        "# ==================== #\n",
        "\n",
        "# GOAL: create a variable testing_errors, a list of 5 elements,\n",
        "# where testing_errors[i] are the testing loss for the polynomial fit of order i+1.\n",
        "for i in range(0,N):\n",
        "  theta = thetas[i]\n",
        "  xhat = (xhats[i]).T\n",
        "  yhat = np.matmul(xhat,theta)\n",
        "  error = sum((yhat - y)**2)/2\n",
        "  testing_errors.append(error)\n",
        "\n",
        "print(\"Polynomial with the best training error: \", np.argmin(testing_errors) + 1,\"th degree polynomial.\")\n",
        "# ================== #\n",
        "# END YOUR CODE HERE #\n",
        "# ================== #\n",
        "\n",
        "print ('Testing errors are: \\n', testing_errors)"
      ]
    },
    {
      "cell_type": "markdown",
      "metadata": {
        "id": "cjKz9-hLAB8L"
      },
      "source": [
        "### QUESTIONS\n",
        "\n",
        "(1) What polynomial has the best testing error?\n",
        "\n",
        "(2) Why polynomial models of orders 5 does not generalize well?"
      ]
    },
    {
      "cell_type": "markdown",
      "metadata": {
        "id": "JrOytSQxAB8L"
      },
      "source": [
        "### ANSWERS\n",
        "\n",
        "(1) Polynomial with the best training error is 4th degree polynomial.\n",
        "\n",
        "(2) Polynomial models with orders 5 and higher tend to fit the error introduced in the first section which is called also overfitting. Therefore, these polynomials can not perform well to unseen test data since error samples are different."
      ]
    },
    {
      "cell_type": "code",
      "execution_count": 12,
      "metadata": {
        "collapsed": true,
        "id": "mFOlyI8HAB8L"
      },
      "outputs": [],
      "source": []
    }
  ],
  "metadata": {
    "kernelspec": {
      "display_name": "Python 2",
      "language": "python",
      "name": "python2"
    },
    "language_info": {
      "codemirror_mode": {
        "name": "ipython",
        "version": 2
      },
      "file_extension": ".py",
      "mimetype": "text/x-python",
      "name": "python",
      "nbconvert_exporter": "python",
      "pygments_lexer": "ipython2",
      "version": "2.7.13"
    },
    "colab": {
      "provenance": []
    }
  },
  "nbformat": 4,
  "nbformat_minor": 0
}